{
 "metadata": {
  "name": "",
  "signature": "sha256:fb3d1399a4053735036d477623753c23ea139c4b16966d4df96a6702f3261516"
 },
 "nbformat": 3,
 "nbformat_minor": 0,
 "worksheets": [
  {
   "cells": [
    {
     "cell_type": "code",
     "collapsed": false,
     "input": [
      "input_file = open('mosquito_data_A1.csv', 'r')\n",
      "print input_file.read()"
     ],
     "language": "python",
     "metadata": {},
     "outputs": [
      {
       "output_type": "stream",
       "stream": "stdout",
       "text": [
        "year,temperature,rainfall,mosquitos\n",
        "2001,87,222,198\n",
        "2002,72,103,105\n",
        "2003,77,176,166\n",
        "2004,89,236,210\n",
        "2005,88,283,242\n",
        "2006,89,151,147\n",
        "2007,71,121,117\n",
        "2008,88,267,232\n",
        "2009,85,211,191\n",
        "2010,75,101,106\n",
        "\n"
       ]
      }
     ],
     "prompt_number": 3
    },
    {
     "cell_type": "code",
     "collapsed": false,
     "input": [
      "import numpy as np"
     ],
     "language": "python",
     "metadata": {},
     "outputs": [],
     "prompt_number": 4
    },
    {
     "cell_type": "code",
     "collapsed": false,
     "input": [
      "mosquito_dataset = np.genfromtxt('mosquito_data_A1.csv', unpack=True, skiprows=1, delimiter=\",\")\n",
      "print mosquito_dataset"
     ],
     "language": "python",
     "metadata": {},
     "outputs": [
      {
       "output_type": "stream",
       "stream": "stdout",
       "text": [
        "[[ 2001.  2002.  2003.  2004.  2005.  2006.  2007.  2008.  2009.  2010.]\n",
        " [   87.    72.    77.    89.    88.    89.    71.    88.    85.    75.]\n",
        " [  222.   103.   176.   236.   283.   151.   121.   267.   211.   101.]\n",
        " [  198.   105.   166.   210.   242.   147.   117.   232.   191.   106.]]\n"
       ]
      }
     ],
     "prompt_number": 5
    },
    {
     "cell_type": "code",
     "collapsed": false,
     "input": [
      "mosquito_dataset[0, 4]"
     ],
     "language": "python",
     "metadata": {},
     "outputs": [
      {
       "metadata": {},
       "output_type": "pyout",
       "prompt_number": 6,
       "text": [
        "2005.0"
       ]
      }
     ],
     "prompt_number": 6
    },
    {
     "cell_type": "code",
     "collapsed": false,
     "input": [
      "year, temperature, rainfall, mosquitos = mosquito_dataset\n",
      "print year"
     ],
     "language": "python",
     "metadata": {},
     "outputs": [
      {
       "output_type": "stream",
       "stream": "stdout",
       "text": [
        "[ 2001.  2002.  2003.  2004.  2005.  2006.  2007.  2008.  2009.  2010.]\n"
       ]
      }
     ],
     "prompt_number": 7
    },
    {
     "cell_type": "code",
     "collapsed": false,
     "input": [
      "# calculate the average temp in the dataset\n",
      "print np.mean(temperature)\n",
      "print sum(temperature) / float(len(temperature))\n"
     ],
     "language": "python",
     "metadata": {},
     "outputs": [
      {
       "output_type": "stream",
       "stream": "stdout",
       "text": [
        "82.1\n",
        "82.1\n"
       ]
      }
     ],
     "prompt_number": 8
    },
    {
     "cell_type": "code",
     "collapsed": false,
     "input": [
      "def mean(my_list):\n",
      "    return sum(my_list) / float(len(my_list))\n",
      "    \n",
      "print mean(temperature)"
     ],
     "language": "python",
     "metadata": {},
     "outputs": [
      {
       "output_type": "stream",
       "stream": "stdout",
       "text": [
        "82.1\n"
       ]
      }
     ],
     "prompt_number": 9
    },
    {
     "cell_type": "code",
     "collapsed": false,
     "input": [
      "print range(1,10)"
     ],
     "language": "python",
     "metadata": {},
     "outputs": [
      {
       "output_type": "stream",
       "stream": "stdout",
       "text": [
        "[1, 2, 3, 4, 5, 6, 7, 8, 9]\n"
       ]
      }
     ],
     "prompt_number": 10
    },
    {
     "cell_type": "code",
     "collapsed": false,
     "input": [
      "# EX: define a new function that returns the difference between the greatest and lowest element of an array\n",
      "def data_range(my_list):\n",
      "    return max(my_list) - min(my_list)\n",
      "\n",
      "print data_range(temperature)\n"
     ],
     "language": "python",
     "metadata": {},
     "outputs": [
      {
       "output_type": "stream",
       "stream": "stdout",
       "text": [
        "18.0\n"
       ]
      }
     ],
     "prompt_number": 11
    },
    {
     "cell_type": "code",
     "collapsed": false,
     "input": [
      "print [1, 2, 2, 4, 1, 100, \"this is a list\", False]"
     ],
     "language": "python",
     "metadata": {},
     "outputs": [
      {
       "output_type": "stream",
       "stream": "stdout",
       "text": [
        "[1, 2, 2, 4, 1, 100, 'this is a list', False]\n"
       ]
      }
     ],
     "prompt_number": 12
    },
    {
     "cell_type": "code",
     "collapsed": false,
     "input": [
      "type(mosquitos)"
     ],
     "language": "python",
     "metadata": {},
     "outputs": [
      {
       "metadata": {},
       "output_type": "pyout",
       "prompt_number": 13,
       "text": [
        "numpy.ndarray"
       ]
      }
     ],
     "prompt_number": 13
    },
    {
     "cell_type": "code",
     "collapsed": false,
     "input": [
      "type([1,2,3])"
     ],
     "language": "python",
     "metadata": {},
     "outputs": [
      {
       "metadata": {},
       "output_type": "pyout",
       "prompt_number": 14,
       "text": [
        "list"
       ]
      }
     ],
     "prompt_number": 14
    },
    {
     "cell_type": "code",
     "collapsed": false,
     "input": [
      "print mosquitos"
     ],
     "language": "python",
     "metadata": {},
     "outputs": [
      {
       "output_type": "stream",
       "stream": "stdout",
       "text": [
        "[ 198.  105.  166.  210.  242.  147.  117.  232.  191.  106.]\n"
       ]
      }
     ],
     "prompt_number": 15
    },
    {
     "cell_type": "code",
     "collapsed": false,
     "input": [
      "my_list = [1, 2, 3, 4, 5]"
     ],
     "language": "python",
     "metadata": {},
     "outputs": [],
     "prompt_number": 16
    },
    {
     "cell_type": "code",
     "collapsed": false,
     "input": [
      "print list(mosquitos)"
     ],
     "language": "python",
     "metadata": {},
     "outputs": [
      {
       "output_type": "stream",
       "stream": "stdout",
       "text": [
        "[198.0, 105.0, 166.0, 210.0, 242.0, 147.0, 117.0, 232.0, 191.0, 106.0]\n"
       ]
      }
     ],
     "prompt_number": 17
    },
    {
     "cell_type": "code",
     "collapsed": false,
     "input": [
      "mosquitos_list = list(mosquitos)"
     ],
     "language": "python",
     "metadata": {},
     "outputs": [],
     "prompt_number": 18
    },
    {
     "cell_type": "code",
     "collapsed": false,
     "input": [
      "print mosquitos * 4\n",
      "print mosquitos"
     ],
     "language": "python",
     "metadata": {},
     "outputs": [
      {
       "output_type": "stream",
       "stream": "stdout",
       "text": [
        "[ 792.  420.  664.  840.  968.  588.  468.  928.  764.  424.]\n",
        "[ 198.  105.  166.  210.  242.  147.  117.  232.  191.  106.]\n"
       ]
      }
     ],
     "prompt_number": 19
    },
    {
     "cell_type": "code",
     "collapsed": false,
     "input": [
      "print mosquitos_list * 4\n",
      "print mosquitos"
     ],
     "language": "python",
     "metadata": {},
     "outputs": [
      {
       "output_type": "stream",
       "stream": "stdout",
       "text": [
        "[198.0, 105.0, 166.0, 210.0, 242.0, 147.0, 117.0, 232.0, 191.0, 106.0, 198.0, 105.0, 166.0, 210.0, 242.0, 147.0, 117.0, 232.0, 191.0, 106.0, 198.0, 105.0, 166.0, 210.0, 242.0, 147.0, 117.0, 232.0, 191.0, 106.0, 198.0, 105.0, 166.0, 210.0, 242.0, 147.0, 117.0, 232.0, 191.0, 106.0]\n",
        "[ 198.  105.  166.  210.  242.  147.  117.  232.  191.  106.]\n"
       ]
      }
     ],
     "prompt_number": 20
    },
    {
     "cell_type": "code",
     "collapsed": false,
     "input": [
      "new_mosquitos_list = []\n",
      "for data_point in mosquitos_list: \n",
      "    new_mosquitos_list.append(data_point * 4)\n",
      "    \n",
      "print new_mosquitos_list"
     ],
     "language": "python",
     "metadata": {},
     "outputs": [
      {
       "output_type": "stream",
       "stream": "stdout",
       "text": [
        "[792.0, 420.0, 664.0, 840.0, 968.0, 588.0, 468.0, 928.0, 764.0, 424.0]\n"
       ]
      }
     ],
     "prompt_number": 21
    },
    {
     "cell_type": "code",
     "collapsed": false,
     "input": [
      "print [data_point * 4 for data_point in mosquitos_list]"
     ],
     "language": "python",
     "metadata": {},
     "outputs": [
      {
       "output_type": "stream",
       "stream": "stdout",
       "text": [
        "[792.0, 420.0, 664.0, 840.0, 968.0, 588.0, 468.0, 928.0, 764.0, 424.0]\n"
       ]
      }
     ],
     "prompt_number": 22
    },
    {
     "cell_type": "code",
     "collapsed": false,
     "input": [
      "print mosquitos"
     ],
     "language": "python",
     "metadata": {},
     "outputs": [
      {
       "output_type": "stream",
       "stream": "stdout",
       "text": [
        "[ 198.  105.  166.  210.  242.  147.  117.  232.  191.  106.]\n"
       ]
      }
     ],
     "prompt_number": 23
    },
    {
     "cell_type": "code",
     "collapsed": false,
     "input": [
      "mosquitos_array = mosquitos\n",
      "print mosquitos_array"
     ],
     "language": "python",
     "metadata": {},
     "outputs": [
      {
       "output_type": "stream",
       "stream": "stdout",
       "text": [
        "[ 198.  105.  166.  210.  242.  147.  117.  232.  191.  106.]\n"
       ]
      }
     ],
     "prompt_number": 24
    },
    {
     "cell_type": "code",
     "collapsed": false,
     "input": [
      "mosquitos_array + [\"Mosquitos!\"]"
     ],
     "language": "python",
     "metadata": {},
     "outputs": [
      {
       "ename": "TypeError",
       "evalue": "unsupported operand type(s) for +: 'numpy.ndarray' and 'list'",
       "output_type": "pyerr",
       "traceback": [
        "\u001b[0;31m---------------------------------------------------------------------------\u001b[0m\n\u001b[0;31mTypeError\u001b[0m                                 Traceback (most recent call last)",
        "\u001b[0;32m<ipython-input-25-c8570ed77a94>\u001b[0m in \u001b[0;36m<module>\u001b[0;34m()\u001b[0m\n\u001b[0;32m----> 1\u001b[0;31m \u001b[0mmosquitos_array\u001b[0m \u001b[0;34m+\u001b[0m \u001b[0;34m[\u001b[0m\u001b[0;34m\"Mosquitos!\"\u001b[0m\u001b[0;34m]\u001b[0m\u001b[0;34m\u001b[0m\u001b[0m\n\u001b[0m",
        "\u001b[0;31mTypeError\u001b[0m: unsupported operand type(s) for +: 'numpy.ndarray' and 'list'"
       ]
      }
     ],
     "prompt_number": 25
    },
    {
     "cell_type": "code",
     "collapsed": false,
     "input": [
      "year, temperature, rainfall, mosquitos = mosquito_dataset"
     ],
     "language": "python",
     "metadata": {},
     "outputs": [],
     "prompt_number": 26
    },
    {
     "cell_type": "code",
     "collapsed": false,
     "input": [
      "print rainfall"
     ],
     "language": "python",
     "metadata": {},
     "outputs": [
      {
       "output_type": "stream",
       "stream": "stdout",
       "text": [
        "[ 222.  103.  176.  236.  283.  151.  121.  267.  211.  101.]\n"
       ]
      }
     ],
     "prompt_number": 27
    },
    {
     "cell_type": "code",
     "collapsed": false,
     "input": [
      "rainfall[0]"
     ],
     "language": "python",
     "metadata": {},
     "outputs": [
      {
       "metadata": {},
       "output_type": "pyout",
       "prompt_number": 28,
       "text": [
        "222.0"
       ]
      }
     ],
     "prompt_number": 28
    },
    {
     "cell_type": "code",
     "collapsed": false,
     "input": [
      "rainfall[-1]"
     ],
     "language": "python",
     "metadata": {},
     "outputs": [
      {
       "metadata": {},
       "output_type": "pyout",
       "prompt_number": 29,
       "text": [
        "101.0"
       ]
      }
     ],
     "prompt_number": 29
    },
    {
     "cell_type": "code",
     "collapsed": false,
     "input": [
      "rainfall[len(rainfall) - 1]"
     ],
     "language": "python",
     "metadata": {},
     "outputs": [
      {
       "metadata": {},
       "output_type": "pyout",
       "prompt_number": 30,
       "text": [
        "101.0"
       ]
      }
     ],
     "prompt_number": 30
    },
    {
     "cell_type": "code",
     "collapsed": false,
     "input": [
      "rainfall[0:3]"
     ],
     "language": "python",
     "metadata": {},
     "outputs": [
      {
       "metadata": {},
       "output_type": "pyout",
       "prompt_number": 31,
       "text": [
        "array([ 222.,  103.,  176.])"
       ]
      }
     ],
     "prompt_number": 31
    },
    {
     "cell_type": "code",
     "collapsed": false,
     "input": [
      "rainfall"
     ],
     "language": "python",
     "metadata": {},
     "outputs": [
      {
       "metadata": {},
       "output_type": "pyout",
       "prompt_number": 32,
       "text": [
        "array([ 222.,  103.,  176.,  236.,  283.,  151.,  121.,  267.,  211.,  101.])"
       ]
      }
     ],
     "prompt_number": 32
    },
    {
     "cell_type": "code",
     "collapsed": false,
     "input": [
      "rainfall[:3]"
     ],
     "language": "python",
     "metadata": {},
     "outputs": [
      {
       "metadata": {},
       "output_type": "pyout",
       "prompt_number": 33,
       "text": [
        "array([ 222.,  103.,  176.])"
       ]
      }
     ],
     "prompt_number": 33
    },
    {
     "cell_type": "code",
     "collapsed": false,
     "input": [
      "rainfall[3:]"
     ],
     "language": "python",
     "metadata": {},
     "outputs": [
      {
       "metadata": {},
       "output_type": "pyout",
       "prompt_number": 34,
       "text": [
        "array([ 236.,  283.,  151.,  121.,  267.,  211.,  101.])"
       ]
      }
     ],
     "prompt_number": 34
    },
    {
     "cell_type": "markdown",
     "metadata": {},
     "source": [
      "import the data from 'mosquito_data_A2.csv', create new variables for the arrays there,\n",
      "and print the mean and standard deviation for rainfall and temperature"
     ]
    },
    {
     "cell_type": "code",
     "collapsed": false,
     "input": [
      "mosquito_dataset_A2 = np.genfromtxt('mosquito_data_A2.csv',unpack=True,skiprows=1,delimiter=\",\")\n",
      "#print mosquito_dataset_A2\n",
      "\n",
      "years_2,temperature_2,rainfall_2,mosquitos_2 = mosquito_dataset_A2\n",
      "\n",
      "print rainfall_2\n",
      "print mean(rainfall_2)\n",
      "print np.std(rainfall_2)"
     ],
     "language": "python",
     "metadata": {},
     "outputs": [
      {
       "output_type": "stream",
       "stream": "stdout",
       "text": [
        "[ 121.  137.  251.  291.  258.  137.  202.  116.  205.  127.  140.  122.\n",
        "  227.  290.  205.  167.  202.  298.  227.  173.  295.  256.  108.  297.\n",
        "  170.  156.  163.  228.  197.  154.  289.  182.  154.  273.  192.  240.\n",
        "  191.  249.  112.  113.  159.  222.  103.  176.  236.  283.  151.  121.\n",
        "  267.  211.  101.]\n",
        "195.0\n",
        "60.3814670957\n"
       ]
      }
     ],
     "prompt_number": 35
    },
    {
     "cell_type": "code",
     "collapsed": false,
     "input": [
      "%pylab\n",
      "from matplotlib import pyplot"
     ],
     "language": "python",
     "metadata": {},
     "outputs": [
      {
       "output_type": "stream",
       "stream": "stdout",
       "text": [
        "Using matplotlib backend: MacOSX\n",
        "Populating the interactive namespace from numpy and matplotlib\n"
       ]
      },
      {
       "output_type": "stream",
       "stream": "stderr",
       "text": [
        "WARNING: pylab import has clobbered these variables: ['mean']\n",
        "`%matplotlib` prevents importing * from pylab and numpy\n"
       ]
      }
     ],
     "prompt_number": 36
    },
    {
     "cell_type": "code",
     "collapsed": false,
     "input": [
      "pyplot.ion()"
     ],
     "language": "python",
     "metadata": {},
     "outputs": [],
     "prompt_number": 37
    },
    {
     "cell_type": "code",
     "collapsed": false,
     "input": [
      "pyplot.plot(year, mosquitos)"
     ],
     "language": "python",
     "metadata": {},
     "outputs": [
      {
       "metadata": {},
       "output_type": "pyout",
       "prompt_number": 38,
       "text": [
        "[<matplotlib.lines.Line2D at 0x108eb9090>]"
       ]
      }
     ],
     "prompt_number": 38
    },
    {
     "cell_type": "code",
     "collapsed": false,
     "input": [
      "pyplot.plot(year, mosquitos, marker = '^', color = 'r', linestyle = '--')\n",
      "pyplot.xlabel('Year')\n",
      "pyplot.ylabel('Number of Mosquitos')\n",
      "pyplot.title('Number of Mosquitos per Year')\n",
      "pyplot.legend(['Data from A1'], loc = 'best')"
     ],
     "language": "python",
     "metadata": {},
     "outputs": [
      {
       "metadata": {},
       "output_type": "pyout",
       "prompt_number": 40,
       "text": [
        "<matplotlib.legend.Legend at 0x10cc85950>"
       ]
      }
     ],
     "prompt_number": 40
    },
    {
     "cell_type": "code",
     "collapsed": false,
     "input": [
      "pyplot.savefig('second_plot.pdf')"
     ],
     "language": "python",
     "metadata": {},
     "outputs": [],
     "prompt_number": 41
    },
    {
     "cell_type": "code",
     "collapsed": false,
     "input": [
      "%pylab\n",
      "from matplotlib import pyplot\n",
      "\n",
      "def read_csv_file(input_csv_file):\n",
      "    '''\n",
      "    This code will read in a csv file of year, temperature, rainfall, and number of mosquitos and return 4 arrays, \n",
      "    one for each column\n",
      "    '''\n",
      "    years, temperature, rainfall, mosquitos = np.genfromtxt(input_csv_file, unpack=True,skiprows=1,delimiter=\",\")\n",
      "    return years, temperature, rainfall, mosquitos\n",
      "    \n",
      "def convert_fahrenheit_to_celsius(temp_in_f):\n",
      "    '''\n",
      "    This code will convert an array of temperatures from fahrenheit to celsius\n",
      "    '''\n",
      "    temp_in_c = (temp_in_f - 32) * 5 / 9.0\n",
      "    return temp_in_c\n",
      "    \n",
      "def plot_data(x,y,marker, plot_name):\n",
      "    '''\n",
      "    This code will plot arrays into to x and y with a symbol\n",
      "    '''\n",
      "    pyplot.ion()\n",
      "    pyplot.figure()  ## Careful with this command, if in a loop, you'll get tons of figures!\n",
      "    pyplot.plot(x,y,str(marker))\n",
      "    pyplot.savefig(plot_name)\n",
      "    pyplot.close()\n",
      "\n",
      "# test temp conversion\n",
      "assert convert_fahrenheit_to_celsius(32) == 0\n",
      "\n",
      "years, temperature, rainfall, mosquitos = read_csv_file('mosquito_data_A1.csv')\n",
      "temp_in_c = convert_fahrenheit_to_celsius(temperature)\n",
      "plot_data(mosquitos, temperature, '^', 'fourth_plot.pdf')"
     ],
     "language": "python",
     "metadata": {},
     "outputs": [
      {
       "output_type": "stream",
       "stream": "stdout",
       "text": [
        "Using matplotlib backend: MacOSX\n",
        "Populating the interactive namespace from numpy and matplotlib\n"
       ]
      }
     ],
     "prompt_number": 73
    },
    {
     "cell_type": "code",
     "collapsed": false,
     "input": [],
     "language": "python",
     "metadata": {},
     "outputs": []
    },
    {
     "cell_type": "code",
     "collapsed": false,
     "input": [],
     "language": "python",
     "metadata": {},
     "outputs": []
    }
   ],
   "metadata": {}
  }
 ]
}