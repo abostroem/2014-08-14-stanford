{
 "metadata": {
  "name": "",
  "signature": "sha256:fc34c21249d475cd1ced6daf0e9e848f09d5a4ea35850e4c4460a574e69b047d"
 },
 "nbformat": 3,
 "nbformat_minor": 0,
 "worksheets": [
  {
   "cells": [
    {
     "cell_type": "code",
     "collapsed": false,
     "input": [],
     "language": "python",
     "metadata": {},
     "outputs": []
    }
   ],
   "metadata": {}
  }
 ]
}